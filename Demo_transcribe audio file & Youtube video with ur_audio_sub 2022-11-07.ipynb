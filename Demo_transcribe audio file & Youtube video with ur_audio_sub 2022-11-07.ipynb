{
  "cells": [
    {
      "cell_type": "markdown",
      "metadata": {},
      "source": [
        "It's recommended to run this notebook on Google Colab to leverage its computing power with a GPU hardware accelerator."
      ]
    },
    {
      "cell_type": "markdown",
      "metadata": {
        "id": "5zjD1jqunTId"
      },
      "source": [
        "# Setup"
      ]
    },
    {
      "cell_type": "code",
      "execution_count": null,
      "metadata": {
        "colab": {
          "base_uri": "https://localhost:8080/"
        },
        "id": "8Wo41F6MnXCj",
        "outputId": "ea69b2df-98d5-44a4-d677-83443ed451eb"
      },
      "outputs": [
        {
          "name": "stdout",
          "output_type": "stream",
          "text": [
            "\u001b[K     |████████████████████████████████| 5.5 MB 38.7 MB/s \n",
            "\u001b[K     |████████████████████████████████| 182 kB 70.2 MB/s \n",
            "\u001b[K     |████████████████████████████████| 7.6 MB 56.2 MB/s \n",
            "\u001b[?25h  Building wheel for whisper (setup.py) ... \u001b[?25l\u001b[?25hdone\n"
          ]
        }
      ],
      "source": [
        "!pip install git+https://github.com/openai/whisper.git -q"
      ]
    },
    {
      "cell_type": "code",
      "execution_count": null,
      "metadata": {
        "colab": {
          "base_uri": "https://localhost:8080/"
        },
        "id": "gW4Bi1MswmDg",
        "outputId": "3aff8d2e-ac26-4102-abc2-d0b9f6277de3"
      },
      "outputs": [
        {
          "name": "stdout",
          "output_type": "stream",
          "text": [
            "Get:1 https://cloud.r-project.org/bin/linux/ubuntu bionic-cran40/ InRelease [3,626 B]\n",
            "Get:2 http://security.ubuntu.com/ubuntu bionic-security InRelease [88.7 kB]\n",
            "Hit:3 http://ppa.launchpad.net/c2d4u.team/c2d4u4.0+/ubuntu bionic InRelease\n",
            "Ign:4 https://developer.download.nvidia.com/compute/machine-learning/repos/ubuntu1804/x86_64  InRelease\n",
            "Hit:5 https://developer.download.nvidia.com/compute/cuda/repos/ubuntu1804/x86_64  InRelease\n",
            "Hit:6 https://developer.download.nvidia.com/compute/machine-learning/repos/ubuntu1804/x86_64  Release\n",
            "Hit:7 http://archive.ubuntu.com/ubuntu bionic InRelease\n",
            "Get:9 http://archive.ubuntu.com/ubuntu bionic-updates InRelease [88.7 kB]\n",
            "Hit:10 http://ppa.launchpad.net/cran/libgit2/ubuntu bionic InRelease\n",
            "Hit:11 http://ppa.launchpad.net/deadsnakes/ppa/ubuntu bionic InRelease\n",
            "Get:12 http://security.ubuntu.com/ubuntu bionic-security/universe amd64 Packages [1,561 kB]\n",
            "Hit:13 http://ppa.launchpad.net/graphics-drivers/ppa/ubuntu bionic InRelease\n",
            "Get:14 http://archive.ubuntu.com/ubuntu bionic-backports InRelease [83.3 kB]\n",
            "Get:15 http://archive.ubuntu.com/ubuntu bionic-updates/main amd64 Packages [3,492 kB]\n",
            "Get:16 http://security.ubuntu.com/ubuntu bionic-security/main amd64 Packages [3,066 kB]\n",
            "Get:17 http://security.ubuntu.com/ubuntu bionic-security/restricted amd64 Packages [1,259 kB]\n",
            "Get:18 http://archive.ubuntu.com/ubuntu bionic-updates/universe amd64 Packages [2,336 kB]\n",
            "Get:19 http://archive.ubuntu.com/ubuntu bionic-updates/multiverse amd64 Packages [29.8 kB]\n",
            "Get:20 http://archive.ubuntu.com/ubuntu bionic-updates/restricted amd64 Packages [1,300 kB]\n",
            "Get:21 http://archive.ubuntu.com/ubuntu bionic-backports/main amd64 Packages [64.0 kB]\n",
            "Get:22 http://archive.ubuntu.com/ubuntu bionic-backports/universe amd64 Packages [20.5 kB]\n",
            "Fetched 13.4 MB in 4s (3,796 kB/s)\n",
            "Reading package lists... Done\n",
            "Building dependency tree       \n",
            "Reading state information... Done\n",
            "5 packages can be upgraded. Run 'apt list --upgradable' to see them.\n",
            "Reading package lists... Done\n",
            "Building dependency tree       \n",
            "Reading state information... Done\n",
            "ffmpeg is already the newest version (7:3.4.11-0ubuntu0.1).\n",
            "The following package was automatically installed and is no longer required:\n",
            "  libnvidia-common-460\n",
            "Use 'sudo apt autoremove' to remove it.\n",
            "0 upgraded, 0 newly installed, 0 to remove and 5 not upgraded.\n"
          ]
        }
      ],
      "source": [
        "!sudo apt update && sudo apt install ffmpeg"
      ]
    },
    {
      "cell_type": "code",
      "execution_count": null,
      "metadata": {
        "colab": {
          "base_uri": "https://localhost:8080/"
        },
        "id": "qG9VqajdnPBA",
        "outputId": "6752c348-260e-448f-eb2a-84912af38bd1"
      },
      "outputs": [
        {
          "name": "stdout",
          "output_type": "stream",
          "text": [
            "Looking in indexes: https://pypi.org/simple, https://us-python.pkg.dev/colab-wheels/public/simple/\n",
            "Collecting ur_audio_sub\n",
            "  Downloading ur_audio_sub-0.0.1-py3-none-any.whl (5.0 kB)\n",
            "Requirement already satisfied: ffmpeg-python in /usr/local/lib/python3.7/dist-packages (from ur_audio_sub) (0.2.0)\n",
            "Collecting pytube\n",
            "  Downloading pytube-12.1.0-py3-none-any.whl (56 kB)\n",
            "\u001b[K     |████████████████████████████████| 56 kB 5.3 MB/s \n",
            "\u001b[?25hRequirement already satisfied: future in /usr/local/lib/python3.7/dist-packages (from ffmpeg-python->ur_audio_sub) (0.16.0)\n",
            "Installing collected packages: pytube, ur-audio-sub\n",
            "Successfully installed pytube-12.1.0 ur-audio-sub-0.0.1\n"
          ]
        }
      ],
      "source": [
        "!pip install ur_audio_sub"
      ]
    },
    {
      "cell_type": "code",
      "execution_count": null,
      "metadata": {
        "id": "KNRk6tXBdoed"
      },
      "outputs": [],
      "source": [
        "from ur_audio_sub import *"
      ]
    },
    {
      "cell_type": "markdown",
      "metadata": {
        "id": "pJ-9IgSAwve5"
      },
      "source": [
        "# Upload/locate your audio file"
      ]
    },
    {
      "cell_type": "markdown",
      "metadata": {
        "id": "nDQG9NJBi2J6"
      },
      "source": [
        "- **Direct file upload:** Upload your audio file directly with the File browser on the left-hand side. Right-click on your file > Copy the file path to use in the next step.\n",
        "\n",
        "- **Connect Google Drive**: Click on the Google Drive icon in the File browser to grant Google Colab to start reading Google Drive files."
      ]
    },
    {
      "cell_type": "markdown",
      "metadata": {
        "id": "Ydwo75DAij25"
      },
      "source": [
        "![image.png](data:image/png;base64,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)"
      ]
    },
    {
      "cell_type": "markdown",
      "metadata": {
        "id": "IZN8V2RWwpMY"
      },
      "source": [
        "# Transcribe your audio"
      ]
    },
    {
      "cell_type": "markdown",
      "metadata": {
        "id": "gCWcQN6qkUUg"
      },
      "source": [
        "## Audio file"
      ]
    },
    {
      "cell_type": "code",
      "execution_count": null,
      "metadata": {
        "id": "4O7Skf6Sw8uT"
      },
      "outputs": [],
      "source": [
        "subGen_path('/content/mary.mp3')"
      ]
    },
    {
      "cell_type": "markdown",
      "metadata": {
        "id": "0LyGGiJ4dr4A"
      },
      "source": [
        "## Youtube Video"
      ]
    },
    {
      "cell_type": "code",
      "execution_count": null,
      "metadata": {
        "colab": {
          "base_uri": "https://localhost:8080/",
          "height": 35
        },
        "id": "GCKVN17axC9h",
        "outputId": "168702a4-ebca-4c0c-acd1-7ac2a78a2c3c"
      },
      "outputs": [
        {
          "data": {
            "application/vnd.google.colaboratory.intrinsic+json": {
              "type": "string"
            },
            "text/plain": [
              "'Your caption has been generated: /content/GitHub CoPilot is like a second brain.mp4.txt'"
            ]
          },
          "execution_count": 7,
          "metadata": {},
          "output_type": "execute_result"
        }
      ],
      "source": [
        "ytSub('https://www.youtube.com/shorts/o3qURBllpGM')"
      ]
    },
    {
      "cell_type": "markdown",
      "metadata": {
        "id": "ccdyP5Xaywi2"
      },
      "source": [
        "# Preview the subtitle file"
      ]
    },
    {
      "cell_type": "code",
      "execution_count": null,
      "metadata": {
        "colab": {
          "base_uri": "https://localhost:8080/",
          "height": 35
        },
        "id": "5ZB-XCDfyrGG",
        "outputId": "2301f17e-4bde-4558-af83-553ec68bc090"
      },
      "outputs": [
        {
          "data": {
            "application/vnd.google.colaboratory.intrinsic+json": {
              "type": "string"
            },
            "text/plain": [
              "''"
            ]
          },
          "execution_count": 11,
          "metadata": {},
          "output_type": "execute_result"
        }
      ],
      "source": [
        "read_txt('YOUR_SUBTITLE_PATH.txt')"
      ]
    }
  ],
  "metadata": {
    "accelerator": "GPU",
    "colab": {
      "collapsed_sections": [
        "5zjD1jqunTId"
      ],
      "provenance": []
    },
    "gpuClass": "standard",
    "kernelspec": {
      "display_name": "Python 3",
      "name": "python3"
    },
    "language_info": {
      "name": "python"
    }
  },
  "nbformat": 4,
  "nbformat_minor": 0
}
